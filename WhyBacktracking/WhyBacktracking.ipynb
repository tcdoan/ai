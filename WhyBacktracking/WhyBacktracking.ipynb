{
 "cells": [
  {
   "cell_type": "markdown",
   "metadata": {},
   "source": [
    "# Search in CSPs\n",
    "\n",
    "- ### The basic idea of searching for a solution in a CSP is that you guess assignments var = value in order to advance to the next state until every variable is assigned to a valid value. \n",
    "\n",
    "- #### If we used a standard depth first search (which we'll cover in detail in a later module), then for **n** variables each with **d** possible values the branching factor of the resulting tree would be **nd** at the top level, **(n-1)d** at the second level, **(n-2)d** at the next level, and so on. The total branching factor would be **n! d^n** when there are only d^n possible assignments.\n",
    "\n",
    "- #### Below shows the node search order using depth first search with two variables A which can be assigned a value in (0, 1, 2), and B which can be assigned a value in (0, 1). Note that there are 1x3+1x2=5 children of the root node, and a total of 2x3 + 3x2=12 leaf nodes–every possible solution assignment is tested twice—and we'll test many partial solutions that are inconsistent (at least one constraint is violated by the partial assignment). These are exactly the problems that backtracking fixes.\n",
    "\n",
    "![](dfs.gif)"
   ]
  },
  {
   "cell_type": "markdown",
   "metadata": {},
   "source": [
    "# Backtracking to avoid redundancy\n",
    "\n",
    "**DFS** tries both assigning **A** before **B** and assigning **B** before **A**. But the order of the assignments doesn't matter in finding a solution, so only one possible order needs to be tested. Backtracking is identical to depth first search order, but it only evaluates a single assignment order for the variables and it reverts an assignments whenever the current state is inconsistent with any of the problem constraints. Backtracking will typically find a solution= faster than depth first search.\n",
    "\n",
    "One key feature of backtracking search is that the choice of which variable to assign first and the choice of which value to assign can have a big impact on the efficiency of the search. That'll be the topic of the next lesson.\n",
    "\n",
    "**below** shows the node search order on the same problem using one possible assignment order with backtracking search. (Note that we don't have any constraints involved, so it is identical to half of DFS in this case.) The backtracking search chooses one particular assignment order (in this case **A** is assigned, then **B**) so there are only 1x3 = 3 children of the root node, and 3x2=6 leaf nodes.\n",
    "\n",
    "![](backtracking.gif)"
   ]
  },
  {
   "cell_type": "markdown",
   "metadata": {},
   "source": [
    "# Aside: Local Search\n",
    "\n",
    "Another alternative to DFS or backtracking search is to use **local search** for solving CSPs. While DFS and backtracking apply variable assignments one at a time, local search always considers complete assignments -- every variable in the problem is always assigned to a concrete value (compare that to the root node of a dfs tree where none of the variables are assigned).\n",
    "\n",
    "Local search operates by starting with a complete assignment, then modifying one or more of the variable values within some \"local neighborhood\" of the current assignment. For example, (A=1,B=0) might change to (A=0,B=0) if we define the neighborhood as \"a single value can change +/-1\" (although other rules could also be chosen).\n",
    "\n",
    "Below shows one possible node search order on the example problem for some notional local search. We will discuss local search in greater detail in the optimization problems lesson later in the course.\n",
    "\n",
    "![](local.gif)\n"
   ]
  }
 ],
 "metadata": {
  "language_info": {
   "codemirror_mode": {
    "name": "ipython",
    "version": 3
   },
   "file_extension": ".py",
   "mimetype": "text/x-python",
   "name": "python",
   "nbconvert_exporter": "python",
   "pygments_lexer": "ipython3",
   "version": 3
  },
  "orig_nbformat": 2
 },
 "nbformat": 4,
 "nbformat_minor": 2
}