{
 "cells": [
  {
   "cell_type": "markdown",
   "metadata": {},
   "source": [
    "## Constraint Satisfaction Problems can be framed as a Triple <X, D, C>:\n",
    "\n",
    "- ### X is a set of variables, {X1, …, Xn}.\n",
    "- ### D is a set of domains, {D1, ..., Dn}, one for each variable.\n",
    "- ### C is a set of constraints that specify allowable combinations of values.\n",
    "\n",
    "## Notes\n",
    "- #### Each domain Di consists of a set of allowable values, {v1,...,vk} for variable Xi.\n",
    "- ####  Each constraint Ci consists of a pair ⟨scope, rel ⟩, where scope is a tuple of variables that participate in the constraint and rel is a relation that defines the values that those variables can take on.\n",
    "- #### For example, if X1 and X2 both have the domain {A,B}, then the constraint saying the two variables must have different values can be written as ⟨(X1, X2), [(A, B), (B, A)]⟩ or as ⟨(X1, X2), X1 ≠ X2⟩.\n"
   ]
  },
  {
   "cell_type": "markdown",
   "metadata": {},
   "source": []
  },
  {
   "cell_type": "markdown",
   "metadata": {},
   "source": [
    "## Sudoku \n",
    "- ### Sudoku puzzles are given in a 9x9 grid that is partitioned into non-overlapping 3x3 groups.\n",
    "- ### A puzzle is solved when each of the 81 boxes has been assigned a single digit between 1-9 such that every row, column, and 3x3 group contains exactly one copy of each digit 1-9.\n",
    "\n",
    "![](sudoku-s.png)\n",
    "\n",
    "### Sudoku CSP Definition\n",
    "- #### Variables: the 81 boxes that must be assigned a value\n",
    "- #### Domains: every variable has the same domain, the single digits 1-9\n",
    "- #### Constraints: each row, column, and 3x3 group must contain one of each digits 1-9"
   ]
  },
  {
   "cell_type": "markdown",
   "metadata": {},
   "source": [
    "## Map coloring\n",
    "- ### Map coloring is a problem that asks for an assignment of distinct colors to each region of the map. \n",
    "- #### While it seems like a trivial problem, map coloring is an intuitive way to describe more complex equivalent problems relevant in other parts of computer science.\n",
    "![](map-coloring.png)\n",
    "- ### Variables: One for each region of the map (in this case WA, NT, SA, Q, NSW, V, and T)\n",
    "    - #### X = {WA,NT,Q,NSW,V,SA,T}\n",
    "- ### Domains: All variables have the same domain, the list of colors that may be assigned to each region\n",
    "    - #### Di = {red , green , blue }\n",
    "- ### Constraints: No pair of adjacent regions can have the same color\n",
    "    - #### C = {SA≠WA, SA≠NT, SA≠Q, SA≠NSW, SA≠V, WA≠NT,NT≠Q, Q≠NSW, NSW≠V}\n",
    "\n",
    "\n"
   ]
  }
 ],
 "metadata": {
  "language_info": {
   "codemirror_mode": {
    "name": "ipython",
    "version": 3
   },
   "file_extension": ".py",
   "mimetype": "text/x-python",
   "name": "python",
   "nbconvert_exporter": "python",
   "pygments_lexer": "ipython3",
   "version": "3.7.6-final"
  },
  "orig_nbformat": 2,
  "kernelspec": {
   "name": "python3",
   "display_name": "Python 3"
  }
 },
 "nbformat": 4,
 "nbformat_minor": 2
}